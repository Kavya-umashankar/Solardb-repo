{
 "cells": [
  {
   "cell_type": "markdown",
   "id": "226c8564",
   "metadata": {},
   "source": [
    "# Predicting Solar Energetic Particles Using SDO/HMI Vector Magnetic Data Products and a Bidirectional LSTM Network"
   ]
  },
  {
   "cell_type": "markdown",
   "id": "7d526273",
   "metadata": {},
   "source": [
    "### Yasser Abduallah, Vania K. Jordanova, Hao Liu, Qin Li1, Jason T. L. Wang, and Haimin Wang"
   ]
  },
  {
   "cell_type": "markdown",
   "id": "bb9d527d",
   "metadata": {},
   "source": [
    "## 1. Introduction"
   ]
  },
  {
   "cell_type": "markdown",
   "id": "37546d1d",
   "metadata": {},
   "source": [
    "Solar energetic particles (SEPs) are an essential source of space radiation, and are hazardous for humans in space,\n",
    "spacecraft, and technology in general. In this paper, we propose a deep-learning method, specifically a bidirectional\n",
    "long short-term memory (biLSTM) network, to predict if an active region (AR) would produce an SEP event given\n",
    "that (i) the AR will produce an M- or X-class flare and a coronal mass ejection (CME) associated with the flare, or\n",
    "(ii) the AR will produce an M- or X-class flare regardless of whether or not the flare is associated with a CME. The\n",
    "data samples used in this study are collected from the Geostationary Operational Environmental Satelliteʼs X-ray\n",
    "flare catalogs provided by the National Centers for Environmental Information. We select M- and X-class flares\n",
    "with identified ARs in the catalogs for the period between 2010 and 2021, and find the associations of flares,\n",
    "CMEs, and SEPs in the Space Weather Database of Notifications, Knowledge, Information during the same period.\n",
    "Each data sample contains physical parameters collected from the Helioseismic and Magnetic Imager on board the\n",
    "Solar Dynamics Observatory.\n",
    "<br>\n",
    "In this notebook we provide an overview of the BiLSTM system to demonstrate how to predict SEP using machine learning (ML) and SDO/HMI vector magnetic data products (SHARP parameters)."
   ]
  },
  {
   "cell_type": "code",
   "execution_count": null,
   "id": "00a1febe",
   "metadata": {},
   "outputs": [],
   "source": []
  }
 ],
 "metadata": {
  "kernelspec": {
   "display_name": "Python 3 (ipykernel)",
   "language": "python",
   "name": "python3"
  },
  "language_info": {
   "codemirror_mode": {
    "name": "ipython",
    "version": 3
   },
   "file_extension": ".py",
   "mimetype": "text/x-python",
   "name": "python",
   "nbconvert_exporter": "python",
   "pygments_lexer": "ipython3",
   "version": "3.8.8"
  }
 },
 "nbformat": 4,
 "nbformat_minor": 5
}
