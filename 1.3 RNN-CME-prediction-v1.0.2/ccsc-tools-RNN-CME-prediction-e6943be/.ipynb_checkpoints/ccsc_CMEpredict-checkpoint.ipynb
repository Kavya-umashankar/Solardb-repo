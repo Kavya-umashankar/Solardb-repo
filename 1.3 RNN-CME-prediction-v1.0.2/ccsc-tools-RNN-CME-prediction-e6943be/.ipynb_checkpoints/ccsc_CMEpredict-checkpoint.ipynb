{
 "cells": [
  {
   "cell_type": "markdown",
   "metadata": {},
   "source": [
    "# Predicting Coronal Mass Ejections Using SDO/HMI Vector Magnetic Data Products and Recurrent Neural Networks\n",
    "\n",
    "Hao Liu, Chang Liu, Jason T. L. Wang, and Haimin Wang\n",
    "\n",
    "Institute for Space Weather Sciences, New Jersey Institute of Technology"
   ]
  },
  {
   "cell_type": "markdown",
   "metadata": {},
   "source": [
    "## 1. Introduction"
   ]
  },
  {
   "cell_type": "markdown",
   "metadata": {},
   "source": [
    "Coronal mass ejections (CMEs) are intense bursts of magnetic flux and plasma that are ejected from the Sun into interplanetary space. They are often associated with solar flares and originate from active regions (ARs) on the Sun’s photosphere where magnetic fields are strong and evolve rapidly. Major CMEs and their associated flares can cause severe influences on the near-Earth environment, resulting in potentially life-threatening consequences. Therefore, substantial efforts are being invested in developing new technologies for early detection and forecasting of flares and CMEs.\n",
    "\n",
    "In this notebook, we demonstrate 2 machine learning models to predict whether an AR that produces an M- or X-class flare will also produce a CME. The machine learning algorithms which we use include two types of recurrent neural networks (RNNs): a long short-term memory (LSTM) network and a gated recurrent unit (GRU) network. We show the models' prediction for various time windows (T), where T is the amount of time between the initial CME and the subsequent M- or X-class flare; using data from the National Centers for\n",
    "Environmental Information (NCEI) data catalog for years 2015-2019. The models were trained on NCEI data from years 2010-2014."
   ]
  },
  {
   "cell_type": "markdown",
   "metadata": {},
   "source": [
    "## 2. Workflow of CMEPredict"
   ]
  },
  {
   "cell_type": "markdown",
   "metadata": {},
   "source": [
    "### 2.1. Configuration"
   ]
  },
  {
   "cell_type": "code",
   "execution_count": 1,
   "metadata": {},
   "outputs": [],
   "source": [
    "import sys\n",
    "sys.path.insert(0, './CMEpredict')\n",
    "\n",
    "from CMEpredict import *\n",
    "\n",
    "import pandas as pd\n",
    "import matplotlib.pyplot as plt\n",
    "from cycler import cycler\n",
    "from sklearn.metrics import confusion_matrix as cm, roc_curve, roc_auc_score"
   ]
  },
  {
   "cell_type": "code",
   "execution_count": 2,
   "metadata": {},
   "outputs": [],
   "source": [
    "mask_value = 0\n",
    "series_len = 20\n",
    "epochs = 20\n",
    "batch_size = 256\n",
    "nclass = 2\n",
    "start_feature = 4"
   ]
  },
  {
   "cell_type": "markdown",
   "metadata": {},
   "source": [
    "### 2.2. Definition of features\n",
    "\n",
    "There are 18 features, or predictive parameters, which characterize AR magnetic field properties for CME predictions:\n",
    "\n",
    "1. **MEANPOT**: mean photospheric magnetic free energy\n",
    "1. **SHRGT45**: fraction of area with shear >45°\n",
    "1. **TOTPOT**: total photospheric magnetic free energy density\n",
    "1. **USFLUX**: total unsigned flux\n",
    "1. **MEANJZH**: mean current helicity\n",
    "1. **ABSNJZH**: absolute value of the net current helicity\n",
    "1. **SAVNCPP**: sum of the modulus of the net current per polarity\n",
    "1. **MEANALP**: mean characteristic twist parameter\n",
    "1. **MEANSHR**: mean shear angle\n",
    "1. **TOTUSJZ**: total unsigned vertical current\n",
    "1. **TOTUSJH**: total unsigned current helicity\n",
    "1. **MEANGAM**: mean angle of field from radial\n",
    "1. **MEANGBZ**: mean gradient of vertical field\n",
    "1. **MEANJZD**: mean vertical current density\n",
    "1. **AREA_ACR**: area of strong field pixels in the active region\n",
    "1. **R_VALUE**: sum of flux near polarity inversion line\n",
    "1. **MEANGBT**: mean gradient of total field\n",
    "1. **MEANGBH**: mean gradient of horizontal field"
   ]
  },
  {
   "cell_type": "markdown",
   "metadata": {},
   "source": [
    "### 2.3. Data Explanation and Sampling\n",
    "\n",
    "The NCEI data has 21 columns:\n",
    "\n",
    "The **Label** column has 3 values: _padding_, _N_, and _P_. _Padding_ means this is an auxiliary data sample used to construct time series for prediction. _N_ means there is a >=M class flare within the next x hours but the flare is not associated with a CME. _P_ means there is a >=M class flare within the next x hours and this flare is associated with a CME.\n",
    "\n",
    "The **NOAA AR NUM** and **HARP NUM** columns are identifying columns for the AR and HARP, respectively. \n",
    "\n",
    "The subsequent 18 columns are the 18 physical SHARP features."
   ]
  },
  {
   "cell_type": "code",
   "execution_count": 3,
   "metadata": {},
   "outputs": [
    {
     "data": {
      "text/html": [
       "<div>\n",
       "<style scoped>\n",
       "    .dataframe tbody tr th:only-of-type {\n",
       "        vertical-align: middle;\n",
       "    }\n",
       "\n",
       "    .dataframe tbody tr th {\n",
       "        vertical-align: top;\n",
       "    }\n",
       "\n",
       "    .dataframe thead th {\n",
       "        text-align: right;\n",
       "    }\n",
       "</style>\n",
       "<table border=\"1\" class=\"dataframe\">\n",
       "  <thead>\n",
       "    <tr style=\"text-align: right;\">\n",
       "      <th></th>\n",
       "      <th>Label</th>\n",
       "      <th>Timestamp</th>\n",
       "      <th>NOAA AR NUM</th>\n",
       "      <th>HARP NUM</th>\n",
       "      <th>TOTUSJH</th>\n",
       "      <th>TOTPOT</th>\n",
       "      <th>TOTUSJZ</th>\n",
       "      <th>ABSNJZH</th>\n",
       "      <th>SAVNCPP</th>\n",
       "      <th>USFLUX</th>\n",
       "      <th>...</th>\n",
       "      <th>R_VALUE</th>\n",
       "      <th>SHRGT45</th>\n",
       "      <th>MEANGAM</th>\n",
       "      <th>MEANJZH</th>\n",
       "      <th>MEANGBT</th>\n",
       "      <th>MEANGBZ</th>\n",
       "      <th>MEANJZD</th>\n",
       "      <th>MEANGBH</th>\n",
       "      <th>MEANSHR</th>\n",
       "      <th>MEANALP</th>\n",
       "    </tr>\n",
       "  </thead>\n",
       "  <tbody>\n",
       "    <tr>\n",
       "      <th>0</th>\n",
       "      <td>padding</td>\n",
       "      <td>2016-02-10T22:58:09.80Z</td>\n",
       "      <td>12497</td>\n",
       "      <td>6327</td>\n",
       "      <td>-0.0759</td>\n",
       "      <td>0.3866</td>\n",
       "      <td>-0.4445</td>\n",
       "      <td>-0.2113</td>\n",
       "      <td>-0.2948</td>\n",
       "      <td>1.0499</td>\n",
       "      <td>...</td>\n",
       "      <td>-0.1779</td>\n",
       "      <td>0.6987</td>\n",
       "      <td>0.9725</td>\n",
       "      <td>-0.2374</td>\n",
       "      <td>1.0638</td>\n",
       "      <td>0.1487</td>\n",
       "      <td>0.3849</td>\n",
       "      <td>0.7120</td>\n",
       "      <td>0.4456</td>\n",
       "      <td>0.5940</td>\n",
       "    </tr>\n",
       "    <tr>\n",
       "      <th>1</th>\n",
       "      <td>padding</td>\n",
       "      <td>2016-02-10T23:10:09.90Z</td>\n",
       "      <td>12497</td>\n",
       "      <td>6327</td>\n",
       "      <td>-0.0967</td>\n",
       "      <td>0.3649</td>\n",
       "      <td>-0.4693</td>\n",
       "      <td>-0.2790</td>\n",
       "      <td>-0.2643</td>\n",
       "      <td>0.8327</td>\n",
       "      <td>...</td>\n",
       "      <td>-0.1750</td>\n",
       "      <td>0.6904</td>\n",
       "      <td>0.9770</td>\n",
       "      <td>-0.2408</td>\n",
       "      <td>1.0778</td>\n",
       "      <td>0.1603</td>\n",
       "      <td>0.4032</td>\n",
       "      <td>0.7052</td>\n",
       "      <td>0.4429</td>\n",
       "      <td>0.5805</td>\n",
       "    </tr>\n",
       "    <tr>\n",
       "      <th>2</th>\n",
       "      <td>padding</td>\n",
       "      <td>2016-02-10T23:22:09.90Z</td>\n",
       "      <td>12497</td>\n",
       "      <td>6327</td>\n",
       "      <td>-0.0904</td>\n",
       "      <td>0.3496</td>\n",
       "      <td>-0.4161</td>\n",
       "      <td>-0.1743</td>\n",
       "      <td>-0.3262</td>\n",
       "      <td>1.1293</td>\n",
       "      <td>...</td>\n",
       "      <td>-0.1774</td>\n",
       "      <td>0.6946</td>\n",
       "      <td>1.0026</td>\n",
       "      <td>-0.2407</td>\n",
       "      <td>1.0963</td>\n",
       "      <td>0.1505</td>\n",
       "      <td>0.3940</td>\n",
       "      <td>0.7061</td>\n",
       "      <td>0.4253</td>\n",
       "      <td>0.5744</td>\n",
       "    </tr>\n",
       "    <tr>\n",
       "      <th>3</th>\n",
       "      <td>padding</td>\n",
       "      <td>2016-02-10T23:34:09.90Z</td>\n",
       "      <td>12497</td>\n",
       "      <td>6327</td>\n",
       "      <td>-0.1058</td>\n",
       "      <td>0.3376</td>\n",
       "      <td>-0.4049</td>\n",
       "      <td>-0.1645</td>\n",
       "      <td>-0.3412</td>\n",
       "      <td>1.0525</td>\n",
       "      <td>...</td>\n",
       "      <td>-0.1792</td>\n",
       "      <td>0.6842</td>\n",
       "      <td>1.0105</td>\n",
       "      <td>-0.2502</td>\n",
       "      <td>1.0994</td>\n",
       "      <td>0.1434</td>\n",
       "      <td>0.3821</td>\n",
       "      <td>0.7030</td>\n",
       "      <td>0.4073</td>\n",
       "      <td>0.5478</td>\n",
       "    </tr>\n",
       "    <tr>\n",
       "      <th>4</th>\n",
       "      <td>padding</td>\n",
       "      <td>2016-02-10T23:46:09.90Z</td>\n",
       "      <td>12497</td>\n",
       "      <td>6327</td>\n",
       "      <td>-0.1035</td>\n",
       "      <td>0.3401</td>\n",
       "      <td>-0.4028</td>\n",
       "      <td>-0.1468</td>\n",
       "      <td>-0.3443</td>\n",
       "      <td>1.2058</td>\n",
       "      <td>...</td>\n",
       "      <td>-0.1840</td>\n",
       "      <td>0.6868</td>\n",
       "      <td>0.9994</td>\n",
       "      <td>-0.2505</td>\n",
       "      <td>1.0996</td>\n",
       "      <td>0.1362</td>\n",
       "      <td>0.3983</td>\n",
       "      <td>0.7010</td>\n",
       "      <td>0.4176</td>\n",
       "      <td>0.5561</td>\n",
       "    </tr>\n",
       "    <tr>\n",
       "      <th>...</th>\n",
       "      <td>...</td>\n",
       "      <td>...</td>\n",
       "      <td>...</td>\n",
       "      <td>...</td>\n",
       "      <td>...</td>\n",
       "      <td>...</td>\n",
       "      <td>...</td>\n",
       "      <td>...</td>\n",
       "      <td>...</td>\n",
       "      <td>...</td>\n",
       "      <td>...</td>\n",
       "      <td>...</td>\n",
       "      <td>...</td>\n",
       "      <td>...</td>\n",
       "      <td>...</td>\n",
       "      <td>...</td>\n",
       "      <td>...</td>\n",
       "      <td>...</td>\n",
       "      <td>...</td>\n",
       "      <td>...</td>\n",
       "      <td>...</td>\n",
       "    </tr>\n",
       "    <tr>\n",
       "      <th>716</th>\n",
       "      <td>P</td>\n",
       "      <td>2016-04-17T23:34:41.00Z</td>\n",
       "      <td>12529</td>\n",
       "      <td>6483</td>\n",
       "      <td>0.9327</td>\n",
       "      <td>0.4485</td>\n",
       "      <td>0.4513</td>\n",
       "      <td>0.2630</td>\n",
       "      <td>-0.5814</td>\n",
       "      <td>-0.0546</td>\n",
       "      <td>...</td>\n",
       "      <td>1.2833</td>\n",
       "      <td>0.7819</td>\n",
       "      <td>-0.5989</td>\n",
       "      <td>1.3702</td>\n",
       "      <td>-0.6397</td>\n",
       "      <td>0.6014</td>\n",
       "      <td>0.4179</td>\n",
       "      <td>0.3667</td>\n",
       "      <td>0.5072</td>\n",
       "      <td>0.3309</td>\n",
       "    </tr>\n",
       "    <tr>\n",
       "      <th>717</th>\n",
       "      <td>P</td>\n",
       "      <td>2016-04-17T23:46:41.00Z</td>\n",
       "      <td>12529</td>\n",
       "      <td>6483</td>\n",
       "      <td>0.9399</td>\n",
       "      <td>0.4514</td>\n",
       "      <td>0.5107</td>\n",
       "      <td>0.2952</td>\n",
       "      <td>-0.6123</td>\n",
       "      <td>0.1997</td>\n",
       "      <td>...</td>\n",
       "      <td>1.2744</td>\n",
       "      <td>0.7709</td>\n",
       "      <td>-0.5941</td>\n",
       "      <td>1.3693</td>\n",
       "      <td>-0.6519</td>\n",
       "      <td>0.5919</td>\n",
       "      <td>0.4060</td>\n",
       "      <td>0.3666</td>\n",
       "      <td>0.5179</td>\n",
       "      <td>0.3272</td>\n",
       "    </tr>\n",
       "    <tr>\n",
       "      <th>718</th>\n",
       "      <td>P</td>\n",
       "      <td>2016-04-17T23:58:41.00Z</td>\n",
       "      <td>12529</td>\n",
       "      <td>6483</td>\n",
       "      <td>0.9489</td>\n",
       "      <td>0.4705</td>\n",
       "      <td>0.5293</td>\n",
       "      <td>0.3388</td>\n",
       "      <td>-0.6220</td>\n",
       "      <td>0.0527</td>\n",
       "      <td>...</td>\n",
       "      <td>1.2723</td>\n",
       "      <td>0.7757</td>\n",
       "      <td>-0.5994</td>\n",
       "      <td>1.3751</td>\n",
       "      <td>-0.6525</td>\n",
       "      <td>0.5842</td>\n",
       "      <td>0.4039</td>\n",
       "      <td>0.3666</td>\n",
       "      <td>0.5335</td>\n",
       "      <td>0.3327</td>\n",
       "    </tr>\n",
       "    <tr>\n",
       "      <th>719</th>\n",
       "      <td>P</td>\n",
       "      <td>2016-04-18T00:10:41.00Z</td>\n",
       "      <td>12529</td>\n",
       "      <td>6483</td>\n",
       "      <td>0.9428</td>\n",
       "      <td>0.4584</td>\n",
       "      <td>0.5930</td>\n",
       "      <td>0.5310</td>\n",
       "      <td>-0.6540</td>\n",
       "      <td>0.1240</td>\n",
       "      <td>...</td>\n",
       "      <td>1.2669</td>\n",
       "      <td>0.7690</td>\n",
       "      <td>-0.6131</td>\n",
       "      <td>1.3667</td>\n",
       "      <td>-0.6636</td>\n",
       "      <td>0.5667</td>\n",
       "      <td>0.3828</td>\n",
       "      <td>0.3631</td>\n",
       "      <td>0.5160</td>\n",
       "      <td>0.3352</td>\n",
       "    </tr>\n",
       "    <tr>\n",
       "      <th>720</th>\n",
       "      <td>P</td>\n",
       "      <td>2016-04-18T00:22:41.10Z</td>\n",
       "      <td>12529</td>\n",
       "      <td>6483</td>\n",
       "      <td>0.9296</td>\n",
       "      <td>0.4169</td>\n",
       "      <td>0.5439</td>\n",
       "      <td>0.4369</td>\n",
       "      <td>-0.6323</td>\n",
       "      <td>0.1523</td>\n",
       "      <td>...</td>\n",
       "      <td>1.2683</td>\n",
       "      <td>0.7496</td>\n",
       "      <td>-0.6163</td>\n",
       "      <td>1.3471</td>\n",
       "      <td>-0.6618</td>\n",
       "      <td>0.5610</td>\n",
       "      <td>0.3245</td>\n",
       "      <td>0.3631</td>\n",
       "      <td>0.4824</td>\n",
       "      <td>0.3121</td>\n",
       "    </tr>\n",
       "  </tbody>\n",
       "</table>\n",
       "<p>721 rows × 22 columns</p>\n",
       "</div>"
      ],
      "text/plain": [
       "       Label                Timestamp  NOAA AR NUM  HARP NUM  TOTUSJH  TOTPOT  \\\n",
       "0    padding  2016-02-10T22:58:09.80Z        12497      6327  -0.0759  0.3866   \n",
       "1    padding  2016-02-10T23:10:09.90Z        12497      6327  -0.0967  0.3649   \n",
       "2    padding  2016-02-10T23:22:09.90Z        12497      6327  -0.0904  0.3496   \n",
       "3    padding  2016-02-10T23:34:09.90Z        12497      6327  -0.1058  0.3376   \n",
       "4    padding  2016-02-10T23:46:09.90Z        12497      6327  -0.1035  0.3401   \n",
       "..       ...                      ...          ...       ...      ...     ...   \n",
       "716        P  2016-04-17T23:34:41.00Z        12529      6483   0.9327  0.4485   \n",
       "717        P  2016-04-17T23:46:41.00Z        12529      6483   0.9399  0.4514   \n",
       "718        P  2016-04-17T23:58:41.00Z        12529      6483   0.9489  0.4705   \n",
       "719        P  2016-04-18T00:10:41.00Z        12529      6483   0.9428  0.4584   \n",
       "720        P  2016-04-18T00:22:41.10Z        12529      6483   0.9296  0.4169   \n",
       "\n",
       "     TOTUSJZ  ABSNJZH  SAVNCPP  USFLUX  ...  R_VALUE  SHRGT45  MEANGAM  \\\n",
       "0    -0.4445  -0.2113  -0.2948  1.0499  ...  -0.1779   0.6987   0.9725   \n",
       "1    -0.4693  -0.2790  -0.2643  0.8327  ...  -0.1750   0.6904   0.9770   \n",
       "2    -0.4161  -0.1743  -0.3262  1.1293  ...  -0.1774   0.6946   1.0026   \n",
       "3    -0.4049  -0.1645  -0.3412  1.0525  ...  -0.1792   0.6842   1.0105   \n",
       "4    -0.4028  -0.1468  -0.3443  1.2058  ...  -0.1840   0.6868   0.9994   \n",
       "..       ...      ...      ...     ...  ...      ...      ...      ...   \n",
       "716   0.4513   0.2630  -0.5814 -0.0546  ...   1.2833   0.7819  -0.5989   \n",
       "717   0.5107   0.2952  -0.6123  0.1997  ...   1.2744   0.7709  -0.5941   \n",
       "718   0.5293   0.3388  -0.6220  0.0527  ...   1.2723   0.7757  -0.5994   \n",
       "719   0.5930   0.5310  -0.6540  0.1240  ...   1.2669   0.7690  -0.6131   \n",
       "720   0.5439   0.4369  -0.6323  0.1523  ...   1.2683   0.7496  -0.6163   \n",
       "\n",
       "     MEANJZH  MEANGBT  MEANGBZ  MEANJZD  MEANGBH  MEANSHR  MEANALP  \n",
       "0    -0.2374   1.0638   0.1487   0.3849   0.7120   0.4456   0.5940  \n",
       "1    -0.2408   1.0778   0.1603   0.4032   0.7052   0.4429   0.5805  \n",
       "2    -0.2407   1.0963   0.1505   0.3940   0.7061   0.4253   0.5744  \n",
       "3    -0.2502   1.0994   0.1434   0.3821   0.7030   0.4073   0.5478  \n",
       "4    -0.2505   1.0996   0.1362   0.3983   0.7010   0.4176   0.5561  \n",
       "..       ...      ...      ...      ...      ...      ...      ...  \n",
       "716   1.3702  -0.6397   0.6014   0.4179   0.3667   0.5072   0.3309  \n",
       "717   1.3693  -0.6519   0.5919   0.4060   0.3666   0.5179   0.3272  \n",
       "718   1.3751  -0.6525   0.5842   0.4039   0.3666   0.5335   0.3327  \n",
       "719   1.3667  -0.6636   0.5667   0.3828   0.3631   0.5160   0.3352  \n",
       "720   1.3471  -0.6618   0.5610   0.3245   0.3631   0.4824   0.3121  \n",
       "\n",
       "[721 rows x 22 columns]"
      ]
     },
     "metadata": {},
     "output_type": "display_data"
    }
   ],
   "source": [
    "names = ['Label', 'Timestamp', 'NOAA AR NUM', 'HARP NUM',\n",
    "          'TOTUSJH', 'TOTPOT', 'TOTUSJZ', 'ABSNJZH', 'SAVNCPP', 'USFLUX', 'AREA_ACR',\n",
    "          'MEANPOT', 'R_VALUE', 'SHRGT45', 'MEANGAM', 'MEANJZH', 'MEANGBT', 'MEANGBZ',\n",
    "          'MEANJZD', 'MEANGBH', 'MEANSHR', 'MEANALP']\n",
    "sample_data = pd.read_csv('CMEpredict/normalized_testing_12.csv', names=names)\n",
    "display(sample_data)"
   ]
  },
  {
   "cell_type": "markdown",
   "metadata": {},
   "source": [
    "### 2.4 Prediction and Analysis"
   ]
  },
  {
   "cell_type": "markdown",
   "metadata": {},
   "source": [
    "#### 2.4.1. Predicting with Pre-Trained Models\n",
    "\n",
    "Each model `(rnn_type,time_window)` tuple differs in what the threshold for the probability is to consider it a Positive (P) result, if it's below this threshold then it's a Negative (N) result. We use this threshold in order to convert this into a Binary Classification problem.\n",
    "\n",
    "Additionally, each `(rnn_type,time_window)` tuple has its own count of top features which are used in the model prediction. Our research has shown that for each tuple<sub>i</sub> the top N<sub>i</sub> features achieved the best performance."
   ]
  },
  {
   "cell_type": "code",
   "execution_count": 4,
   "metadata": {},
   "outputs": [
    {
     "name": "stdout",
     "output_type": "stream",
     "text": [
      "predicting for 12 hour window using gru\n"
     ]
    },
    {
     "data": {
      "image/png": "[encoded data removed]",
      "text/plain": [
       "<Figure size 432x288 with 1 Axes>"
      ]
     },
     "metadata": {
      "needs_background": "light"
     },
     "output_type": "display_data"
    },
    {
     "name": "stdout",
     "output_type": "stream",
     "text": [
      "predicting for 12 hour window using lstm\n"
     ]
    },
    {
     "data": {
      "image/png": "[encoded data removed]",
      "text/plain": [
       "<Figure size 432x288 with 1 Axes>"
      ]
     },
     "metadata": {
      "needs_background": "light"
     },
     "output_type": "display_data"
    },
    {
     "name": "stdout",
     "output_type": "stream",
     "text": [
      "predicting for 36 hour window using gru\n"
     ]
    },
    {
     "data": {
      "image/png": "[encoded data removed]",
      "text/plain": [
       "<Figure size 432x288 with 1 Axes>"
      ]
     },
     "metadata": {
      "needs_background": "light"
     },
     "output_type": "display_data"
    },
    {
     "name": "stdout",
     "output_type": "stream",
     "text": [
      "predicting for 36 hour window using lstm\n"
     ]
    },
    {
     "data": {
      "image/png": "[encoded data removed]",
      "text/plain": [
       "<Figure size 432x288 with 1 Axes>"
      ]
     },
     "metadata": {
      "needs_background": "light"
     },
     "output_type": "display_data"
    },
    {
     "name": "stdout",
     "output_type": "stream",
     "text": [
      "predicting for 60 hour window using gru\n"
     ]
    },
    {
     "data": {
      "image/png": "[encoded data removed]",
      "text/plain": [
       "<Figure size 432x288 with 1 Axes>"
      ]
     },
     "metadata": {
      "needs_background": "light"
     },
     "output_type": "display_data"
    },
    {
     "name": "stdout",
     "output_type": "stream",
     "text": [
      "predicting for 60 hour window using lstm\n"
     ]
    },
    {
     "data": {
      "image/png": "[encoded data removed]",
      "text/plain": [
       "<Figure size 432x288 with 1 Axes>"
      ]
     },
     "metadata": {
      "needs_background": "light"
     },
     "output_type": "display_data"
    }
   ],
   "source": [
    "import itertools\n",
    "time_windows = [12, 36, 60] # options are 12, 24, 36, 48, 60\n",
    "rnn_types = ['gru', 'lstm']\n",
    "cm_grid = [['TN','FP'], ['FN', 'TP']]\n",
    "\n",
    "results = {}\n",
    "\n",
    "for (time_window, type) in itertools.product(time_windows, rnn_types):\n",
    "    print(f'predicting for {time_window} hour window using {type}')\n",
    "    model_file = f'CMEpredict/{type}-{time_window}-model.h5'\n",
    "\n",
    "    n_features, threshold = get_n_features_thresh(type, time_window)\n",
    "\n",
    "    model = load_model(model_file)\n",
    "\n",
    "    test_data_file = f'CMEpredict/normalized_testing_{time_window}.csv'\n",
    "    X_test, y_test, nb_test = load_data(datafile=test_data_file,\n",
    "                                        series_len=series_len,\n",
    "                                        start_feature=start_feature,\n",
    "                                        n_features=n_features,\n",
    "                                        mask_value=mask_value,\n",
    "                                        type=type,\n",
    "                                        time_window=time_window)\n",
    "\n",
    "    prob = model.predict(X_test,\n",
    "                        batch_size=batch_size,\n",
    "                        verbose=False,\n",
    "                        steps=None)\n",
    "\n",
    "    bc = [1 if p >= threshold else 0 for p in prob]\n",
    "    confmat = cm(y_test, bc)\n",
    "    results[f'{type} {time_window}'] = (y_test, bc)\n",
    "    plt.imshow(confmat, interpolation='nearest', cmap=(plt.cm.PuBu if type =='lstm' else plt.cm.OrRd))\n",
    "    classNames = ['Negative','Positive']\n",
    "    plt.title(f'{type.upper()} {time_window} Hour Confusion Matrix')\n",
    "    plt.ylabel('True Label')\n",
    "    plt.xlabel('Predicted Label')\n",
    "    tick_marks = np.arange(len(classNames))\n",
    "    plt.xticks(tick_marks, classNames, rotation=45)\n",
    "    plt.yticks(tick_marks, classNames)\n",
    "    for i in range(2):\n",
    "        for j in range(2):\n",
    "            plt.text(j,i, f'{cm_grid[i][j]} = {confmat[i][j]}', horizontalalignment='center')\n",
    "    plt.show()"
   ]
  },
  {
   "cell_type": "markdown",
   "metadata": {},
   "source": [
    "#### 2.4.2. Analysis of Predictions\n"
   ]
  },
  {
   "cell_type": "code",
   "execution_count": 5,
   "metadata": {},
   "outputs": [
    {
     "data": {
      "image/png": "[encoded data removed]",
      "text/plain": [
       "<Figure size 432x288 with 1 Axes>"
      ]
     },
     "metadata": {
      "needs_background": "light"
     },
     "output_type": "display_data"
    }
   ],
   "source": [
    "plt.rc('axes', prop_cycle=(cycler('color', ['r', 'g', 'b', 'y', 'c', 'k']) *\n",
    "                           cycler('linestyle', ['-', '--', ':', '-.'])))\n",
    "for name, (y_test, bc) in results.items():\n",
    "    r_auc = roc_auc_score(y_test, bc)\n",
    "    r_fpr, r_tpr, _ = roc_curve(y_test, bc)\n",
    "    plt.plot(r_fpr, r_tpr, label=f'{name.upper()} Hour (AUROC = %0.3f)' % r_auc)\n",
    "plt.title('ROC Plot')\n",
    "\n",
    "plt.xlabel('False Positive Rate')\n",
    "plt.ylabel('True Positive Rate')\n",
    "\n",
    "plt.legend() \n",
    "\n",
    "plt.show()"
   ]
  },
  {
   "cell_type": "markdown",
   "metadata": {},
   "source": [
    "### 2.5. Train your own model\n",
    "\n",
    "In order to train your own model, change the appropriate variables below; run the cell; and rerun the prediction cells above. The new model will overwrite the pre-trained model file."
   ]
  },
  {
   "cell_type": "code",
   "execution_count": 6,
   "metadata": {},
   "outputs": [
    {
     "name": "stdout",
     "output_type": "stream",
     "text": [
      "training the model, wait until it is finished...\n",
      "done training the model\n"
     ]
    }
   ],
   "source": [
    "# CHANGE THESE VARIABLES#\n",
    "time_window = 12        # 12, 24, 36, 48, 60\n",
    "type = 'lstm'           # 'lstm', 'gru'\n",
    "#########################\n",
    "\n",
    "train_data_file = f'CMEpredict/normalized_training_{time_window}.csv'\n",
    "n_features, thresh = get_n_features_thresh(type, time_window)\n",
    "X_train, y_train, nb_train = load_data(datafile=train_data_file,\n",
    "                                        series_len=series_len,\n",
    "                                        start_feature=start_feature,\n",
    "                                        n_features=n_features,\n",
    "                                        mask_value=mask_value,\n",
    "                                        type=type,\n",
    "                                        time_window=time_window)\n",
    "\n",
    "class_weights = class_weight.compute_class_weight('balanced', np.unique(y_train), y_train)\n",
    "class_weight_ = {0: class_weights[0], 1: class_weights[1]}\n",
    "\n",
    "if type is 'lstm':\n",
    "    model = lstm(n_features, series_len)  \n",
    "elif type  is 'gru':\n",
    "    model = gru(n_features, series_len)\n",
    "\n",
    "print('training the model, wait until it is finished...')\n",
    "model.compile(loss='binary_crossentropy',\n",
    "                optimizer='RMSprop',\n",
    "                metrics=['accuracy'])\n",
    "\n",
    "history = model.fit(X_train,\n",
    "                    y_train,\n",
    "                    epochs=epochs,\n",
    "                    batch_size=batch_size,\n",
    "                    verbose=False,\n",
    "                    shuffle=True,\n",
    "                    class_weight=class_weight_)\n",
    "model_file = f'CMEpredict/{type}-{time_window}-model.h5'\n",
    "model.save(model_file)\n",
    "print('done training the model')"
   ]
  },
  {
   "cell_type": "markdown",
   "metadata": {},
   "source": [
    "## 3. References\n",
    "\n",
    "Predicting Coronal Mass Ejections Using SDO/HMI Vector Magnetic Data Products and Recurrent Neural Networks. Liu, H., Liu, C., Wang, J. T. L., Wang, H., ApJ., 890:12, 2020  \n",
    "\n",
    "https://iopscience.iop.org/article/10.3847/1538-4357/ab6850\n",
    "\n",
    "https://arxiv.org/abs/2002.10953\n",
    "\n",
    "https://web.njit.edu/~wangj/RNNcme/"
   ]
  },
  {
   "cell_type": "code",
   "execution_count": null,
   "metadata": {},
   "outputs": [],
   "source": []
  }
 ],
 "metadata": {
  "interpreter": {
   "hash": "aee8b7b246df8f9039afb4144a1f6fd8d2ca17a180786b69acc140d282b71a49"
  },
  "kernelspec": {
   "display_name": "rnncme",
   "language": "python",
   "name": "rnncme"
  },
  "language_info": {
   "codemirror_mode": {
    "name": "ipython",
    "version": 3
   },
   "file_extension": ".py",
   "mimetype": "text/x-python",
   "name": "python",
   "nbconvert_exporter": "python",
   "pygments_lexer": "ipython3",
   "version": "3.6.8"
  }
 },
 "nbformat": 4,
 "nbformat_minor": 2
}
