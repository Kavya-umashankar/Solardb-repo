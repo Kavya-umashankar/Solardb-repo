{
 "cells": [
  {
   "cell_type": "markdown",
   "metadata": {},
   "source": [
    "# **Reconstruction of Total Solar Irradiance by Deep Learning**"
   ]
  },
  {
   "cell_type": "markdown",
   "metadata": {
    "toc": true
   },
   "source": [
    "<h1><b>Table of Contents</b><span class=\"tocSkip\"></span> </h1>\n",
    "<div class=\"toc\">\n",
    "<!--     <ul class=\"toc-item\"> -->\n",
    "        <li><span><a href=\"#Template-Notebook-for-EarthCube---Long-Version\"\n",
    "                    data-toc-modified-id=\"Template-Notebook-for-EarthCube---Long-Version-1\"><span\n",
    "                        class=\"toc-item-num\">1&nbsp;&nbsp;</span>YA_Reconstruction of Total Solar Irradiance by Deep Learning</a></span>\n",
    "            <ul class=\"toc-item\" style='margin-top:0px; margin-bottom:0px'>\n",
    "                <li><span><a href=\"#Author(s)\" data-toc-modified-id=\"Author(s)-1.1\"><span\n",
    "                                class=\"toc-item-num\">1.1&nbsp;&nbsp;</span>Author(s)</a></span></li>\n",
    "                <li><span><a href=\"#Purpose\" data-toc-modified-id=\"Purpose-1.2\"><span\n",
    "                                class=\"toc-item-num\">1.2&nbsp;&nbsp;</span>Purpose</a></span></li>\n",
    "                <li><span><a href=\"#Technical-Contributions\" data-toc-modified-id=\"Technical-Contributions-1.3\"><span\n",
    "                                class=\"toc-item-num\">1.3&nbsp;&nbsp;</span>Technical Contributions</a></span></li>\n",
    "                <li><span><a href=\"#Methodology\" data-toc-modified-id=\"Methodology-1.4\"><span\n",
    "                                class=\"toc-item-num\">1.4&nbsp;&nbsp;</span>Methodology</a></span></li>\n",
    "                <li><span><a href=\"#Funding\" data-toc-modified-id=\"Funding-1.6\"><span\n",
    "                                class=\"toc-item-num\">1.5&nbsp;&nbsp;</span>Funding</a></span></li>\n",
    "                <li><span><a href=\"#Keywords\" data-toc-modified-id=\"Keywords-1.7\"><span\n",
    "                                class=\"toc-item-num\">1.6&nbsp;&nbsp;</span>Keywords</a></span></li>\n",
    "                <li><span><a href=\"#Citation\" data-toc-modified-id=\"Citation-1.8\"><span\n",
    "                                class=\"toc-item-num\">1.7&nbsp;&nbsp;</span>Citation</a></span></li>\n",
    "                <li><span style='display:inline'><a href=\"#Acknowledgements\" data-toc-modified-id=\"Acknowledgements-1.11\"><span\n",
    "                        class=\"toc-item-num\">1.8&nbsp;&nbsp;</span>Acknowledgements</a></span></li>                \n",
    "            </ul>\n",
    "        </li>\n",
    "<!--     </ul> -->\n",
    "    <li><span><a href=\"#Setup\" data-toc-modified-id=\"Setup-2\"><span\n",
    "                    class=\"toc-item-num\">2&nbsp;&nbsp;</span>Setup</a></span>\n",
    "    </li>\n",
    "    <li><span><a href=\"#Data-Processing-and-Analysis\" data-toc-modified-id=\"Data-Processing-and-Analysis-3\"><span\n",
    "                    class=\"toc-item-num\">3&nbsp;&nbsp;</span>Data Processing and Analysis</a></span></li>\n",
    "    <li><span><a href=\"#Binder\" data-toc-modified-id=\"Binder-4\"><span\n",
    "                    class=\"toc-item-num\">4&nbsp;&nbsp;</span>Binder</a></span></li>\n",
    "    <li><span><a href=\"#TSInet-Workflow-and-Results\" data-toc-modified-id=\"TSInet-Workflow-5\"><span\n",
    "                    class=\"toc-item-num\">5&nbsp;&nbsp;</span>TSInet Workflow and Results</a></span>\n",
    "        <ul class=\"toc-item\" style='margin-top:0px;margin-bottom:0px'>\n",
    "            <li>\n",
    "                <span><a href=\"#Data-Preparation-and-Loading\"\n",
    "                        data-toc-modified-id=\"Data-Preparation-and-Loading-5.1\"><span\n",
    "                            class=\"toc-item-num\">5.1&nbsp;&nbsp;</span>Data Preparation and Loading</a></span>\n",
    "            </li>\n",
    "            <li>\n",
    "                <span><a href=\"#Reconstructing-with-Pretrained-Models\"\n",
    "                        data-toc-modified-id=\"Reconstructing-with-Pretrained Models-5.6\"><span\n",
    "                            class=\"toc-item-num\">5.2&nbsp;&nbsp;</span>Reconstructing with Pretrained Models</a></span>\n",
    "            </li>            \n",
    "            <li>\n",
    "                <span><a href=\"#Plotting-the-Pretrained-Models-Results\"\n",
    "                        data-toc-modified-id=\"#Plotting-the-Pretrained-Models-Results-5.3\"><span\n",
    "                            class=\"toc-item-num\">5.3&nbsp;&nbsp;</span>Plotting the Pretrained Models Results</a></span>\n",
    "            </li>\n",
    "            <li>\n",
    "                <span><a href=\"#TSInet-Model-Training-and-Testing-Example\"\n",
    "                        data-toc-modified-id=\"TSInet-Model-Training-and-Testing-Example-5.4\"><span\n",
    "                            class=\"toc-item-num\">5.4&nbsp;&nbsp;</span>TSInet Model Training and Testing Example</a></span>\n",
    "            </li>\n",
    "            <li>\n",
    "                <span><a href=\"#TSInet-Model-Training-with-Sample-Data\"\n",
    "                        data-toc-modified-id=\"TSInet-Model-Training-with-Sample-Data\"><span\n",
    "                            class=\"toc-item-num\">5.5&nbsp;&nbsp;</span>TSInet Model Training with Sample Data</a></span>\n",
    "            </li>\n",
    "            <li>\n",
    "                <span><a href=\"#Reconstructing-with-Your-Trained-TSInet-Model\"\n",
    "                        data-toc-modified-id=\"Reconstructing-with-Your-Trained-TSInet Model\"><span\n",
    "                            class=\"toc-item-num\">5.6&nbsp;&nbsp;</span>Reconstructing with Your Trained TSInet Model</a></span>\n",
    "            </li>\n",
    "            <li>\n",
    "                <span><a href=\"#Plotting-the-Results-for-Your-Trained-Model\"\n",
    "                        data-toc-modified-id=\"Plotting-the-Results-for-Your-Trained-Model\"><span\n",
    "                            class=\"toc-item-num\">5.6&nbsp;&nbsp;</span>Plotting the Results for Your Trained Model</a></span>\n",
    "            </li> \n",
    "            <li>\n",
    "                <span><a href=\"#Timing\"\n",
    "                        data-toc-modified-id=\"Timing-5.7\"><span\n",
    "                            class=\"toc-item-num\">5.7&nbsp;&nbsp;</span>Timing</a></span>\n",
    "            </li>            \n",
    "        </ul>\n",
    "    </li>\n",
    "<!--     </ul> -->\n",
    "</div>            \n",
    "        </ul>\n",
    "    </li>\n",
    "    <li><span><a href=\"#Conclusions\" data-toc-modified-id=\"Conclusions-6\"><span\n",
    "                    class=\"toc-item-num\">6&nbsp;&nbsp;</span>Conclusions</a></span>\n",
    "    </li>\n",
    "    <li><span><a href=\"#References\" data-toc-modified-id=\"References-7\"><span\n",
    "                    class=\"toc-item-num\">7&nbsp;&nbsp;</span>References</a></span>\n",
    "    </li>    \n",
    "    </ul>\n",
    "</div>"
   ]
  },
  {
   "cell_type": "markdown",
   "metadata": {},
   "source": [
    "### **Author(s)**\n",
    "- Author1 = {\"name\": \"Yasser Abduallah\", \"affiliation\": \"Department of Computer Science, New Jersey Institute of Technology\", \"email\": \"ya54@njit.edu\", \"orcid\": \"https://orcid.org/0000-0003-0792-2270\"}\n",
    "- Author2 = {\"name\": \"Jason T. L. Wang\", \"affiliation\": \"Department of Computer Science, New Jersey Institute of Technology\", \"email\": \"wangj@njit.edu\", \"orcid\": \"https://orcid.org/0000-0002-2486-1097\"}\n",
    "- Author3 = {\"name\": \"Yucong Shen\", \"affiliation\": \"Department of Computer Science, New Jersey Institute of Technology\", \"email\": \"ys496@njit.edu\", \"orcid\": \"\"}\n",
    "- Author4 = {\"name\": \"Khalid A. Alobaid\", \"affiliation\": \"Department of Computer Science, New Jersey Institute of Technology\", \"email\": \"kaa65@njit.edu\", \"orcid\": \"\"}\n",
    "- Author5 = {\"name\": \"Serena Criscuoli\", \"affiliation\": \"National Solar Observatory, Boulder, Colorado, USA\", \"email\": \"scriscuo@nso.edu\", \"orcid\": \"0000-0002-4525-9038\"}\n",
    "- Author6 = {\"name\": \"Haimin Wang\", \"affiliation\": \"Institute for Space Weather Sciences, New Jersey Institute of Technology\", \"email\": \"haimin.wang@njit.edu\", \"orcid\": \"https://orcid.org/0000-0002-5233-565X\"}"
   ]
  },
  {
   "cell_type": "markdown",
   "metadata": {},
   "source": [
    "### **Purpose**\n",
    "The Earth’s primary source of energy is the radiant energygenerated by the Sun, which is referred to as solar irradiance,or total solar irradiance (TSI) when all of the radiation is mea-sured. A minor change in the solar irradiance can have a sig-nificant impact on the Earth’s climate and atmosphere. As aresult, studying and measuring solar irradiance is crucial inunderstanding climate changes and solar variability. Severalmethods have been developed to reconstruct total solar irra-diance for long and short periods of time; however, they arephysics-based and rely on the availability of data, which doesnot go beyond 9,000 years. In this paper we propose a newmethod, called TSInet, to reconstruct total solar irradiance bydeep learning for short and long periods of time that span be-yond the physical models’ data availability. On the data thatare available, our method agrees well with the state-of-the-artphysics-based reconstruction models. To our knowledge, thisis the first time that deep learning has been used to reconstructtotal solar irradiance for more than 9,000 years.\n",
    "<br>To our knowledge, this is the first time that TSI reconsturction is made deep learning.\n",
    "\n",
    "In this notebook we provide an overview of the TSInet system to demonstrate how to reconstruct the TSI using deep learning (DL) that goes beyond the phsyical parameters construction limit.\n",
    "\n",
    "### **Technical Contributions**\n",
    "\n",
    "- We provide the community with a new tool to reconstruct the total solar irradiance (TSI) for 9,000 years and byone.\n",
    "\n",
    "\n",
    "### **Methodology**\n",
    "The figure below presents the architecture of our TSInet model. TSInet is created using the tensorflow keras framework. \n",
    "Let <i>t</i> be the latest time point. Data sample *x<sub>t</sub>* contains *w* values *v<sub>t</sub>,v<sub>t−1</sub>,...,v<sub>t−w+1<sub>* and the label *v<sub>t−w</sub>* where *v<sub>t</sub>* is the TSI value at time point *t*. In our study, the time window, *w*, is set to 7. We train TSInet with multiple batches. In the first batch, we  use the *n* training data samples, *x<sub>t</sub>,x<sub>t−1</sub>,...,x<sub>t−n+1</sub>*, to train TSInet. In our study, the number of input data samples,*n*, is set to 10. The label of the *n* training data samples is determined by the label  of the last data sample (i.e.,*x<sub>t−n+1</sub>*).In the second batch, we use the next *<sub>n</sub>* training data samples, *x<sub>t−n</sub>,x<sub>t−n−1</sub>,...,x<sub>t−2n+1</sub>*, to train TSInet. The label of the *<sub>n</sub>* training data samples is determined by the label of *x<sub>t−2n+1</sub>*. In the third batch, we use the following *<sbu>n</sub>* training data samples,*x<sub>t−2n</sub>,x<sub>t−2n−1</sub>,...,x<sub>t−3n+1</sbu>, to train TSInet. The label of the *n* training data samples is determined by the label of *x</sub>t−3n+1</sub>*. We continue this training process until all TSI values in the training set are used. Forevery two adjacent data samples *x<sub>i</sub>,x<sub>i−1</sub>*, they overlap on *w−1* TSI values, namely *v<sub>i−1</sub>,v<sub>i−2</sub>,...,v<sub>i−w+1</sub>*.\n",
    "TSInet consists of three convolutional layers (Conv1d_1,Conv1d_2, and Conv1d_3) where the kernel slides along 1-dimension  on the time series, a max pooling layer, a flatten layer, a repeat vector layer, an LSTM (long short-termmemory) layer, an attention layer, two fully connected layers, and an output layer. The output from the three convolutional layers is flattened by the flatten layer and transformed into a sequence, also known as a feature vector. The repeatvector layer repeats the feature vector to reshape and prepare it as the input to the LSTM layer. The LSTM layer in our architecture contains *m* LSTM cells (in this study,*m* is set to 10). The attention layer with *m* neurons is used to focus on the relevant information in each time step. Each of the two fully connected layers has 200 neurons. The activation function used in our model is ReLU (rectified linear unit). TSInet produces as output a predicted TSI value.\n",
    "<br>\n",
    "\n",
    "\n",
    "<br>\n",
    "<center>\n",
    "    <p style=\"text-align: center;\">\n",
    "<img src='figures/tsinet_architecture.png' width=\"400\"  />\n",
    "        <br>TSInet Contextual Architecture.\n",
    "    </p>\n",
    "</center>\n",
    "\n",
    "\n",
    "### **Funding**\n",
    "N/A\n",
    "\n",
    "### **Keywords**\n",
    "keywords=[\"TSI\",\"solar\",\"irradiance\",\"Reconstruction\", \"Prediction\", \"Machine\", \"Learning\"]\n",
    "\n",
    "### **Citation**\n",
    "To cite this notebook: Yasser Abduallah, Jason T. L. Wang, Yucong Shen, Khalid A. Alobaid, Serena Criscuoli, Haimin Wang.  Reconstruction of Total Solar Irradiance by Deep Learning available at: <a href='https://github.com/ccsc-tools/TSInet-irradiance-reconstruction/blob/main/YA_01_ReconstructionOfTSIbyDeepLearning.ipynb' target='new'>https://github.com/ccsc-tools/TSInet-irradiance-reconstruction/YA_01_ReconstructionOfTSIbyDeepLearning.ipynb</a>.\n",
    "\n",
    "\n",
    "\n",
    "### **Acknowledgements** \n",
    "We acknowledge the use of  TSI provided by the Total Irradiance Monitor aboard the  SOlar Radiation and Climate Experiment  (SORCE) and available at: <a target='_new' hred='http://lasp.colorado.edu/home/sorce/data/tsi-data>http://lasp.colorado.edu/home/sorce/data/tsi-data</a>."
   ]
  },
  {
   "cell_type": "markdown",
   "metadata": {},
   "source": [
    "# **Setup**\n",
    "\n",
    "**Installation on Local Machine**<br>\n",
    "Running this notebook in a local machine requires Python version 3.6.x or 3.8.x with the following packages and their version:\n",
    "\n",
    "|Library | Version   | Description  |\n",
    "|---|---|---|\n",
    "|keras| 2.3.0 | Deep learning API|\n",
    "|keras_self_attention|latest| Self attention mechanism|\n",
    "|numpy| 1.21.5| Array manipulation|\n",
    "|sklearn| latest| Tools for predictive data analysis|\n",
    "| pandas|1.3.4| Data loading and manipulation|\n",
    "| scipy|1.7.1| Provides algorithms for optimization and statistics|\n",
    "| tensorflow| 1.14 or 2.4| Provides the visualization and tooling needed for machine learning|\n",
    "| tensorflow-gpu| 1.14 or 2.4| Deep learning tool for high performance computation |"
   ]
  },
  {
   "cell_type": "markdown",
   "metadata": {},
   "source": [
    "\n",
    "\n",
    " **Library Import**<br>\n",
    "The following libraries need to be imported."
   ]
  },
  {
   "cell_type": "code",
   "execution_count": 2,
   "metadata": {
    "scrolled": true
   },
   "outputs": [
    {
     "name": "stdout",
     "output_type": "stream",
     "text": [
      "Importing packages..\n",
      "Packages imported\n"
     ]
    }
   ],
   "source": [
    "#supress warning messages\n",
    "import warnings\n",
    "warnings.filterwarnings('ignore')\n",
    "print('Importing packages..')\n",
    "# Data manipulation\n",
    "import pandas as pd\n",
    "import numpy as np\n",
    "import os\n",
    "print('Packages imported')"
   ]
  },
  {
   "cell_type": "markdown",
   "metadata": {},
   "source": [
    "# **Data Processing and Analysis**\n",
    "We   use   measurements   of   the   TSI   provided  by  the  Total  Irradiance  Monitor  aboard  the  SOlar  Radiation  and  Climate  Experiment  (SORCE)(Rottman2005) and available at: http://lasp.colorado.edu/home/sorce/data/tsi-data/. This dataset, used as our training set, contains daily TSI measurements carried outfrom  2003  to  the  present (2021).  Figure  1  illustrates  the  SORCE time  series  dataset  showing  the  total  solar  irradiance  overtime.\n",
    "<br>\n",
    "<p style=\"text-align: center;\">\n",
    "<img title ='Figure 1' src='figures/SORCE_TS_XL_Blue.png'  width='600px'/>\n",
    "</p>\n",
    "<p style=\"text-align: center;\">\n",
    "Figure 1: SORCE total solar irradiance (TSI) data from 2003 to the present (2021).</p>\n",
    "<br>\n",
    "Our testing set contains measurements from TCTE TotalSolar  Irradiance  daily  averages,  available  athttp://lasp.colorado.edu/lisird/data/tcte_tsi_24hr/. Total Solar Irradiance Calibration Transfer Experiment (TCTE) (http://lasp.colorado.edu/home/missions-projects/quick-facts-tcte/)  mea-surements  are  made  by  the  LASP  TCTE  Total  Irradiance Monitor  (TIM)  instrument  aboard  the  U.S.  Air  Force’s STPSat-3  spacecraft.  This  TIM  has  been  measuring  total solar irradiance since late 2013. In  addition,  we  adopt  the  following  publicly  available datasets obtained, over different temporal ranges, by different physics-based models, which will are used as testing setsin our work:<br>\n",
    "<ul>\n",
    "    <li>NRLTSI2 (Naval Research Lab-oratory’s TSI-2) Daily Averages, available at: <a href='http://lasp.colorado.edu/lisird/' target='_new'>http://lasp.colorado.edu/lisird/</a>\n",
    "    <li> SATIRE-S (Spectral And Total Irradiance RE-construction model-Space era), available at: <a href=' http://www2.mps.mpg.de/projects/sun-climate/data.html' target='_new'>http://www2.mps.mpg.de/projects/sun-climate/data.html</a>\n",
    "     <li>SATIRE-M (Spectral And Total Irradiance RE-construction model - Millennia), available at: <a href='http://www2.mps.mpg.de/projects' target='_new'>http://www2.mps.mpg.de/projects</a>\n",
    "  </ul>\n",
    " <br>\n",
    " The total solar irradiance values range from 1356.656 to 1363.525. We use a feature scaling technique, also known as data normalization, to normalize the range of data to increase the cohesion of the TSI values. Specifically, we use the min-max normalization that is calculated as follows:\n",
    " <br>\n",
    " <p style=\"text-align: center;\">\n",
    "    <img src='figures/datascaling_equation.png' />\n",
    "  </p>\n",
    "  <br>\n",
    "  where <i>v&#770;<sub>i<sub></i>(<i>v<sub>i</sub></i>, respectively) is the normalized value (actualvalue, respectively) at time pointi, and <i>S</i> represents the input data set. The normalized TSI values range from 0 to 1.\n",
    "    <br>Figure 2 shows the data scaling while keeping the same data shape as the original data as seen in Figure 1.<br>\n",
    "    <p style='text-align:center;'>\n",
    "        <img src='figures/DataScalingSORCE.png' width='600px'/><br>\n",
    "    </p>\n",
    "    <p style=\"text-align: center;\">\n",
    "Figure 1: SORCE total solar irradiance (TSI) data from 2003 to the present (2021) with Data Scaling.</p>\n",
    "<br>"
   ]
  },
  {
   "cell_type": "markdown",
   "metadata": {},
   "source": [
    "# **Binder**\n",
    "\n",
    "This notebook is Binder enabled and can be run on <a target='new' href='https://mybinder.org/'>mybinder.org</a> by using the image link below:\n",
    "\n",
    "<p float=\"left\"> <a href='https://mybinder.org/v2/gh/ccsc-tools/TSInet-irradiance-reconstruction/HEAD?labpath=YA_01_ReconstructionOfTSIbyDeepLearning.ipynb' target='new'><img align=\"left\" src='https://mybinder.org/badge_logo.svg'></img></a></p>\n",
    "\n",
    "<br><br>\n",
    "Please note that starting Binder might take some time to create and start the image.\n",
    "\n"
   ]
  },
  {
   "cell_type": "markdown",
   "metadata": {},
   "source": [
    "# **TSInet Workflow and Results**\n"
   ]
  },
  {
   "cell_type": "markdown",
   "metadata": {},
   "source": [
    "### **Data Preparation and Loading**\n",
    "The required files are included in the root folder of the github which includes all training and test data sets required to run the run the notebook.\n",
    "The files are loaded and used during the testing and training process."
   ]
  },
  {
   "cell_type": "markdown",
   "metadata": {},
   "source": [
    "### **Reconstructing with Pretrained Models**\n",
    "There are default and pretrained models that can be used to predict without running your own trained model. The models_directory  is set to default_models which uses all pretrained algorithms."
   ]
  },
  {
   "cell_type": "code",
   "execution_count": 3,
   "metadata": {
    "scrolled": true
   },
   "outputs": [
    {
     "name": "stdout",
     "output_type": "stream",
     "text": [
      "Testing the default model with data set: TCTE\n",
      "Process the require arguments..\n"
     ]
    },
    {
     "ename": "TypeError",
     "evalue": "can only concatenate str (not \"NoneType\") to str",
     "output_type": "error",
     "traceback": [
      "\u001b[1;31m---------------------------------------------------------------------------\u001b[0m",
      "\u001b[1;31mTypeError\u001b[0m                                 Traceback (most recent call last)",
      "Cell \u001b[1;32mIn [3], line 11\u001b[0m\n\u001b[0;32m      9\u001b[0m args[\u001b[38;5;124m'\u001b[39m\u001b[38;5;124mmodel_dir\u001b[39m\u001b[38;5;124m'\u001b[39m]  \u001b[38;5;241m=\u001b[39m model_directory\n\u001b[0;32m     10\u001b[0m \u001b[38;5;28mprint\u001b[39m(\u001b[38;5;124m'\u001b[39m\u001b[38;5;124mProcess the require arguments..\u001b[39m\u001b[38;5;124m'\u001b[39m)\n\u001b[1;32m---> 11\u001b[0m \u001b[43mprocess_args\u001b[49m\u001b[43m(\u001b[49m\u001b[43margs\u001b[49m\u001b[43m)\u001b[49m\n\u001b[0;32m     13\u001b[0m reconstruct_tsinet()\n",
      "File \u001b[1;32m~\\OneDrive\\Documents\\fall 2022\\MASTER Project\\7 TSInet-irradiance-reconstruction-v1.3\\ccsc-tools-TSInet-irradiance-reconstruction-8f47c34\\tsinet_reconstructor.py:261\u001b[0m, in \u001b[0;36mprocess_args\u001b[1;34m(args)\u001b[0m\n\u001b[0;32m    258\u001b[0m     result_file_name\u001b[38;5;241m=\u001b[39margs[\u001b[38;5;124m'\u001b[39m\u001b[38;5;124mresult_file_name\u001b[39m\u001b[38;5;124m'\u001b[39m]\n\u001b[0;32m    260\u001b[0m \u001b[38;5;28;01mif\u001b[39;00m result_file_name \u001b[38;5;129;01mis\u001b[39;00m \u001b[38;5;28;01mNone\u001b[39;00m:\n\u001b[1;32m--> 261\u001b[0m     result_file_name \u001b[38;5;241m=\u001b[39m \u001b[38;5;124;43m'\u001b[39;49m\u001b[38;5;124;43mresults\u001b[39;49m\u001b[38;5;124;43m'\u001b[39;49m\u001b[43m \u001b[49m\u001b[38;5;241;43m+\u001b[39;49m\u001b[43m \u001b[49m\u001b[43mos\u001b[49m\u001b[38;5;241;43m.\u001b[39;49m\u001b[43msep\u001b[49m\u001b[43m \u001b[49m\u001b[38;5;241;43m+\u001b[39;49m\u001b[43m \u001b[49m\u001b[43mresult_file_name\u001b[49m\n\u001b[0;32m    263\u001b[0m \u001b[38;5;28;01mglobal\u001b[39;00m k_steps \n\u001b[0;32m    264\u001b[0m \u001b[38;5;28;01mif\u001b[39;00m \u001b[38;5;124m'\u001b[39m\u001b[38;5;124mk_steps\u001b[39m\u001b[38;5;124m'\u001b[39m \u001b[38;5;129;01min\u001b[39;00m args:\n",
      "\u001b[1;31mTypeError\u001b[0m: can only concatenate str (not \"NoneType\") to str"
     ]
    }
   ],
   "source": [
    "#Test default models.\n",
    "from tsinet_reconstructor import *\n",
    "dataset_name='TCTE' \n",
    "model_directory='default_model'\n",
    "print('Testing the default model with data set:', dataset_name)\n",
    "args={}\n",
    "\n",
    "args['dataset_name'] = dataset_name\n",
    "args['model_dir']  = model_directory\n",
    "print('Process the require arguments..')\n",
    "process_args(args)\n",
    "\n",
    "reconstruct_tsinet()"
   ]
  },
  {
   "cell_type": "markdown",
   "metadata": {},
   "source": [
    "**Plotting the Pretrained Models Results**<br>\n",
    "The prediction result can be plotted using the function plot_figures. It uses the results produced by the model from the \"default_results\" directory."
   ]
  },
  {
   "cell_type": "code",
   "execution_count": 1,
   "metadata": {
    "scrolled": false
   },
   "outputs": [
    {
     "name": "stdout",
     "output_type": "stream",
     "text": [
      "Python version: 3.8.13\n",
      "Tensorflow backend version: 2.4.0\n",
      "Plotting figures for default models results for TSI reconstruction of data set: TCTE\n",
      "\n",
      "\n",
      "*NOTE: the figure scale is large compared to the difference between the observed and predicted values, therefore you may see a big difference, but in actuality, the absolute difference between the values are very small.\n"
     ]
    },
    {
     "data": {
      "image/png": "[encoded data removed]",
      "text/plain": [
       "<Figure size 576x216 with 1 Axes>"
      ]
     },
     "metadata": {
      "needs_background": "light"
     },
     "output_type": "display_data"
    }
   ],
   "source": [
    "from tsinet_utils import plot_figures\n",
    "\n",
    "dataset_name='TCTE' \n",
    "result_file_name = 'results/tsinet_result_' + dataset_name + '.csv'\n",
    "print('Plotting figures for default models results for TSI reconstruction of data set:', dataset_name)\n",
    "plot_figures(result_file_name)\n"
   ]
  },
  {
   "cell_type": "markdown",
   "metadata": {},
   "source": [
    "### **TSInet Model Training and Testing Example**\n",
    "**TSInet Model Training with Sample Data**<br>\n",
    "Here, we show how to train the model with sample data example. In this exmaple, we show how to train the model."
   ]
  },
  {
   "cell_type": "code",
   "execution_count": 1,
   "metadata": {
    "scrolled": false
   },
   "outputs": [
    {
     "name": "stdout",
     "output_type": "stream",
     "text": [
      "Python version: 3.8.13\n",
      "Tensorflow backend version: 2.4.0\n",
      "Training custom model\n",
      "Process the require arguments..\n",
      "Epoch 1/10\n",
      "356/356 [==============================] - 3s 3ms/step - loss: 0.0425\n",
      "Epoch 2/10\n",
      "356/356 [==============================] - 1s 3ms/step - loss: 0.0019\n",
      "Epoch 3/10\n",
      "356/356 [==============================] - 1s 3ms/step - loss: 8.8236e-04\n",
      "Epoch 4/10\n",
      "356/356 [==============================] - 1s 3ms/step - loss: 5.9699e-04\n",
      "Epoch 5/10\n",
      "356/356 [==============================] - 1s 3ms/step - loss: 5.5888e-04\n",
      "Epoch 6/10\n",
      "356/356 [==============================] - 1s 3ms/step - loss: 5.8946e-04\n",
      "Epoch 7/10\n",
      "356/356 [==============================] - 1s 3ms/step - loss: 4.3116e-04\n",
      "Epoch 8/10\n",
      "356/356 [==============================] - 1s 3ms/step - loss: 4.3292e-04\n",
      "Epoch 9/10\n",
      "356/356 [==============================] - 1s 3ms/step - loss: 5.1806e-04\n",
      "Epoch 10/10\n",
      "356/356 [==============================] - 1s 3ms/step - loss: 3.8954e-04\n",
      "Saving the TSInet model\n",
      "The model is saved in the models directory\n",
      "Finished TSInet training...\n"
     ]
    }
   ],
   "source": [
    "#Training for  sample data.\n",
    "from tsinet_train import *\n",
    "print('Training custom model')\n",
    "training_file='train_data/SORCE_TSI.csv'\n",
    "epochs=10'\n",
    "args={}\n",
    "args['training_file'] = training_file\n",
    "args['epochs'] = epochs\n",
    "\n",
    "print('Process the require arguments..')\n",
    "process_args(args)\n",
    "\n",
    "train_tsinet()\n"
   ]
  },
  {
   "cell_type": "markdown",
   "metadata": {},
   "source": [
    "**Reconstructing with Your Trained TSInet Model**<br>\n",
    "To reconstruct the testing data using the model you trained above, use the following settings.\n",
    "<br>\n",
    "Note: this is training job is only an example that uses less training proceses, and epochs, therefore the results and performance metrics may not be comparable to fully developed pretrained and default models."
   ]
  },
  {
   "cell_type": "code",
   "execution_count": 2,
   "metadata": {
    "scrolled": true
   },
   "outputs": [
    {
     "name": "stdout",
     "output_type": "stream",
     "text": [
      "Testing the custom model with data set: TCTE\n",
      "Process the require arguments..\n",
      "model_dir: models\n",
      "\n",
      "Please wait while reconstructing...\n",
      "Loading model file: models\\tsinet_model \n",
      "Reconstruction will be performed using the model file: models\\tsinet_model \n",
      "Processing with k steps = 5 \n",
      "Finished the reconstruction process.\n",
      "Results are written to: results\\sinet_result_TCTE.csv\n"
     ]
    }
   ],
   "source": [
    "#Test default models.\n",
    "from tsinet_reconstructor import *\n",
    "import os \n",
    "dataset_name='TCTE' \n",
    "model_directory='models'\n",
    "result_file_name = 'results' +os.sep +'sinet_result_'+dataset_name+'.csv'\n",
    "print('Testing the custom model with data set:', dataset_name)\n",
    "args={}\n",
    "\n",
    "args['dataset_name'] = dataset_name\n",
    "args['model_dir']  = model_directory\n",
    "args['result_file_name'] = result_file_name\n",
    "\n",
    "print('Process the require arguments..')\n",
    "process_args(args)\n",
    "\n",
    "reconstruct_tsinet()"
   ]
  },
  {
   "cell_type": "markdown",
   "metadata": {},
   "source": [
    " **Plotting the Results for Your Trained Model**<br>\n",
    " The prediction result can be plotted using the function plot_figures as shown in the following example."
   ]
  },
  {
   "cell_type": "code",
   "execution_count": 3,
   "metadata": {
    "scrolled": false
   },
   "outputs": [
    {
     "name": "stdout",
     "output_type": "stream",
     "text": [
      "Plotting figures for default models results for TSI reconstruction of data set: TCTE\n",
      "\n",
      "\n",
      "*NOTE: the figure scale is large compared to the difference between the observed and predicted values, therefore you may see a big difference, but in actuality, the absolute difference between the values are very small.\n"
     ]
    },
    {
     "data": {
      "image/png": "[encoded data removed]",
      "text/plain": [
       "<Figure size 576x216 with 1 Axes>"
      ]
     },
     "metadata": {
      "needs_background": "light"
     },
     "output_type": "display_data"
    }
   ],
   "source": [
    "from tsinet_utils import plot_figures\n",
    "\n",
    "dataset_name='TCTE' \n",
    "result_file_name = 'results/tsinet_result_' + dataset_name + '.csv'\n",
    "print('Plotting figures for default models results for TSI reconstruction of data set:', dataset_name)\n",
    "plot_figures(result_file_name)\n"
   ]
  },
  {
   "cell_type": "markdown",
   "metadata": {},
   "source": [
    "### **Timing**\n",
    "Please note that the execution time in mybinder varies based on the availability of resources. The average time to run the notebook is 10-15 minutes, but it could be more.\n",
    "\n",
    "# **Conclusions**\n",
    "The Earth’s primary source of energy is the radiant energyfrom the Sun. This energy is known as solar irradiance, ortotal solar irradiance (TSI) when all of the radiation is mea-sured. The changes in solar irradiance have a significant im-pact on Earths’ atmosphere and climate. Therefore, studying  and  reconstructing  solar  irradiance  is  crucial  in  solar physics. Existing methods for solar irradiance reconstruction are  all  based  on  physics-based  models. In this paper, we presented the first deep learning method(TSInet) for reconstructing total solar irradiance (TSI). Experimental results showed that results from our TSInet agree well with those from the physics-based models. When compared to closely related machine learning methods, TSInet achieves the best performance among the methods. TSInet does not depend on physics properties such as proxies, and hence it can be extended back at times when proxies were not available. We demonstrated here that TSInet is able toreconstruct TSI for more than 9 millennia.\n",
    "\n",
    "# **References**\n",
    "<ol>\n",
    "     <li>\n",
    "         Reconstruction of Total Solar Irradiance by Deep Learning<br>\n",
    "    Yasser Abduallah, Jason T. L. Wang, Yucong Shen, Khalid A. Alobaid, Serena Criscuoli, and Haimin Wan\n",
    "<br>\n",
    "        <a target='new' href='https://doi.org/10.32473/flairs.v34i1.128356'>https://doi.org/10.32473/flairs.v34i1.128356</a>\n",
    "    </li>      \n",
    "    <li>\n",
    "        Where does Earth's atmosphere get its energy?<br>\n",
    "        Kren, A. C. and Pilewskie, P. and Coddington, O.<br>\n",
    "        <a target='new' href='https://doi.org/10.1051/swsc/2017007'>https://doi.org/10.1051/swsc/2017007</a>\n",
    "    </li>\n",
    "    <li>\n",
    "\tSolar irradiance variability: A six-year comparison between SORCE observations and the SATIRE model\n",
    "        <br>\n",
    "        Ball, W. T. and Unruh, Y. C. and Krivova, N. A. and Solanki, S. and Harder, J. W.<br>\n",
    "        <a target='new' href='https://doi.org/10.1051/0004-6361/201016189'>https://doi.org/10.1051/0004-6361/201016189</a>\n",
    "    </li>\n",
    "    <li>\n",
    "\tSolar activity over nine millennia: A consistent multi-proxy reconstruction\n",
    "        <br>\n",
    "       Wu, C. J. and Usoskin, I. G. and Krivova, N. and\tKovaltsov, G. A. and Baroni, M. and Bard, E. and Solanki, S.K.\n",
    "        <br>\n",
    "        <a target='new' href='https://doi.org/10.1051/0004-6361/201731892'>https://doi.org/10.1051/0004-6361/201731892</a>\n",
    "    </li>    \n",
    "</ol>"
   ]
  },
  {
   "cell_type": "code",
   "execution_count": null,
   "metadata": {},
   "outputs": [],
   "source": []
  }
 ],
 "metadata": {
  "kernelspec": {
   "display_name": "env",
   "language": "python",
   "name": "env"
  },
  "language_info": {
   "codemirror_mode": {
    "name": "ipython",
    "version": 3
   },
   "file_extension": ".py",
   "mimetype": "text/x-python",
   "name": "python",
   "nbconvert_exporter": "python",
   "pygments_lexer": "ipython3",
   "version": "3.8.10"
  },
  "toc": {
   "base_numbering": 1,
   "nav_menu": {},
   "number_sections": true,
   "sideBar": true,
   "skip_h1_title": false,
   "title_cell": "Table of Contents",
   "title_sidebar": "Contents",
   "toc_cell": true,
   "toc_position": {
    "height": "calc(100% - 180px)",
    "left": "10px",
    "top": "150px",
    "width": "248.182px"
   },
   "toc_section_display": true,
   "toc_window_display": true
  }
 },
 "nbformat": 4,
 "nbformat_minor": 4
}
